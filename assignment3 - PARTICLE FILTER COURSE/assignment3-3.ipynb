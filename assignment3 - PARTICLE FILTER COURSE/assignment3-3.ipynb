{
 "cells": [
  {
   "cell_type": "code",
   "execution_count": 1,
   "id": "36191b20",
   "metadata": {},
   "outputs": [
    {
     "name": "stdout",
     "output_type": "stream",
     "text": [
      "Output Should Be 0.9\n",
      "You Calculated: 0.9\n",
      "\n",
      "Output Should Be -100\n",
      "You Calculated: -100\n",
      "\n",
      "Output Should Be -100\n",
      "You Calculated: -100\n",
      "\n",
      "Output Should Be 2.9\n",
      "You Calculated: 2.9\n",
      "\n",
      "Output Should Be 0.5\n",
      "You Calculated: 0.5\n",
      "\n"
     ]
    }
   ],
   "source": [
    "import matplotlib.pyplot as plt\n",
    "import math\n",
    "import numpy as np\n",
    "import random as r\n",
    "\n",
    "\n",
    "class Robot:\n",
    "    def __init__(self, pos):\n",
    "        self.pos = pos\n",
    "        self.pole_dist = -100\n",
    "        self.max_measurement = 3\n",
    "\n",
    "    # Measurement is perfectly accurate even though we are assuming it isn't.\n",
    "    # Robot can measure 3 units infront and outputs the distance to the nearest pole if detected\n",
    "    # and -100 if pole not detected.\n",
    "    def measure(self, poles):\n",
    "        ### START STUDENT CODE\n",
    "        # Set self.pole_dist to the distance to the closest pole.\n",
    "        potential_detected_poles = []\n",
    "        for pole in poles:\n",
    "            diff = pole - self.pos\n",
    "            if diff > 0 and diff < self.max_measurement:\n",
    "                potential_detected_poles += [diff]\n",
    "        if len(potential_detected_poles) == 0:\n",
    "            self.pole_dist = -100\n",
    "        else:\n",
    "            self.pole_dist = min(potential_detected_poles)\n",
    "        ### END STUDENT CODE\n",
    "\n",
    "class Particle(Robot):\n",
    "    def __init__(self, pos):\n",
    "        Robot.__init__(self, pos)\n",
    "\n",
    "\n",
    "\n",
    "poles = [1, 10]\n",
    "particle = Particle(0.1)\n",
    "particle.measure(poles)\n",
    "print(\"Output Should Be 0.9\")\n",
    "print(\"You Calculated: \" + str(round(particle.pole_dist, 1)))\n",
    "print()\n",
    "\n",
    "particle.pos = 11\n",
    "particle.measure(poles)\n",
    "print(\"Output Should Be -100\")\n",
    "print(\"You Calculated: \" + str(round(particle.pole_dist, 1)))\n",
    "print()\n",
    "\n",
    "particle.pos = 6.9\n",
    "particle.measure(poles)\n",
    "print(\"Output Should Be -100\")\n",
    "print(\"You Calculated: \" + str(round(particle.pole_dist, 1)))\n",
    "print()\n",
    "\n",
    "particle.pos = 7.1\n",
    "particle.measure(poles)\n",
    "print(\"Output Should Be 2.9\")\n",
    "print(\"You Calculated: \" + str(round(particle.pole_dist, 1)))\n",
    "print()\n",
    "\n",
    "particle.pos = 9.5\n",
    "particle.measure(poles)\n",
    "print(\"Output Should Be 0.5\")\n",
    "print(\"You Calculated: \" + str(round(particle.pole_dist, 1)))\n",
    "print()\n"
   ]
  },
  {
   "cell_type": "code",
   "execution_count": null,
   "id": "b0a19e0b",
   "metadata": {},
   "outputs": [],
   "source": []
  }
 ],
 "metadata": {
  "kernelspec": {
   "display_name": "Python 3 (ipykernel)",
   "language": "python",
   "name": "python3"
  },
  "language_info": {
   "codemirror_mode": {
    "name": "ipython",
    "version": 3
   },
   "file_extension": ".py",
   "mimetype": "text/x-python",
   "name": "python",
   "nbconvert_exporter": "python",
   "pygments_lexer": "ipython3",
   "version": "3.9.7"
  },
  "toc": {
   "base_numbering": 1,
   "nav_menu": {},
   "number_sections": true,
   "sideBar": true,
   "skip_h1_title": false,
   "title_cell": "Table of Contents",
   "title_sidebar": "Contents",
   "toc_cell": false,
   "toc_position": {},
   "toc_section_display": true,
   "toc_window_display": false
  },
  "varInspector": {
   "cols": {
    "lenName": 16,
    "lenType": 16,
    "lenVar": 40
   },
   "kernels_config": {
    "python": {
     "delete_cmd_postfix": "",
     "delete_cmd_prefix": "del ",
     "library": "var_list.py",
     "varRefreshCmd": "print(var_dic_list())"
    },
    "r": {
     "delete_cmd_postfix": ") ",
     "delete_cmd_prefix": "rm(",
     "library": "var_list.r",
     "varRefreshCmd": "cat(var_dic_list()) "
    }
   },
   "types_to_exclude": [
    "module",
    "function",
    "builtin_function_or_method",
    "instance",
    "_Feature"
   ],
   "window_display": false
  }
 },
 "nbformat": 4,
 "nbformat_minor": 5
}

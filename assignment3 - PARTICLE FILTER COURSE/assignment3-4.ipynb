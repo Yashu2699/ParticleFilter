{
 "cells": [
  {
   "cell_type": "code",
   "execution_count": 4,
   "id": "ac2e18c9",
   "metadata": {},
   "outputs": [],
   "source": [
    "import matplotlib.pyplot as plt\n",
    "import math\n",
    "import numpy as np\n",
    "import random as r"
   ]
  },
  {
   "cell_type": "code",
   "execution_count": 5,
   "id": "ad595064",
   "metadata": {},
   "outputs": [],
   "source": [
    "class Robot:\n",
    "    def __init__(self, pos):\n",
    "        self.pos = pos\n",
    "        self.pole_dist = 0\n",
    "\n",
    "\n",
    "class Particle(Robot):\n",
    "    def __init__(self, pos):\n",
    "        Robot.__init__(self, pos)\n",
    "        self.weight = 0\n",
    "        self.measurement_sigma = 0.5\n",
    "\n",
    "    def probability_density_function(self, mu, x):\n",
    "        ### STUDENT CODE START\n",
    "        sigma = self.measurement_sigma\n",
    "        return 1 / (sigma * math.sqrt(2 * math.pi)) * math.e**(-0.5* ((x - mu) / sigma)**2)\n",
    "        ### STUDENT CODE END\n",
    "\n",
    "    def update_weight(self, robot_dist):\n",
    "        ### STUDENT CODE START\n",
    "        self.weight = self.probability_density_function(robot_dist, self.pole_dist)\n",
    "        ### STUDENT CODE END\n",
    "\n"
   ]
  },
  {
   "cell_type": "code",
   "execution_count": 6,
   "id": "0bf12c8d",
   "metadata": {},
   "outputs": [
    {
     "data": {
      "image/png": "[encoded data removed]",
      "text/plain": [
       "<Figure size 432x288 with 1 Axes>"
      ]
     },
     "metadata": {
      "needs_background": "light"
     },
     "output_type": "display_data"
    },
    {
     "name": "stdout",
     "output_type": "stream",
     "text": [
      "If Probability is close to 0.5, then PDF works.\n",
      "0.5\n",
      "\n",
      "Particle Weight: 0.8\n"
     ]
    },
    {
     "data": {
      "image/png": "[encoded data removed]",
      "text/plain": [
       "<Figure size 432x288 with 1 Axes>"
      ]
     },
     "metadata": {
      "needs_background": "light"
     },
     "output_type": "display_data"
    }
   ],
   "source": [
    "# Plot Weights for a range of robot measurements.\n",
    "particle = Particle(0.0)\n",
    "x = np.arange(-5, 5, 0.01)\n",
    "y = np.zeros(len(x))\n",
    "for i in range(len(x)):\n",
    "    particle.update_weight(x[i])\n",
    "    y[i] = particle.probability_density_function(0, x[i])\n",
    "\n",
    "plt.plot(x, y, '-r')\n",
    "plt.grid(True)\n",
    "plt.show()\n",
    "\n",
    "# Integrate left side to calculate probablity.\n",
    "sum_probability = 0\n",
    "for i in range(int(len(y) / 2)):\n",
    "    sum_probability += y[i]\n",
    "\n",
    "print(\"If Probability is close to 0.5, then PDF works.\")\n",
    "print(round(sum_probability * 0.01, 2))\n",
    "print()\n",
    "\n",
    "# Update Particle Weigth based on robot measurement.\n",
    "robot_dist = 3.0\n",
    "particle.pole_dist = 3.0\n",
    "particle.update_weight(robot_dist)\n",
    "print(\"Particle Weight: \" + str(round(particle.weight, 2)))\n",
    "plt.plot(x, y, '-r')\n",
    "plt.plot([-5, 5], [particle.weight, particle.weight], '-b')\n",
    "plt.grid(True)\n",
    "plt.show()\n"
   ]
  },
  {
   "cell_type": "code",
   "execution_count": null,
   "id": "7e12f2f0",
   "metadata": {},
   "outputs": [],
   "source": []
  }
 ],
 "metadata": {
  "kernelspec": {
   "display_name": "Python 3 (ipykernel)",
   "language": "python",
   "name": "python3"
  },
  "language_info": {
   "codemirror_mode": {
    "name": "ipython",
    "version": 3
   },
   "file_extension": ".py",
   "mimetype": "text/x-python",
   "name": "python",
   "nbconvert_exporter": "python",
   "pygments_lexer": "ipython3",
   "version": "3.9.7"
  },
  "toc": {
   "base_numbering": 1,
   "nav_menu": {},
   "number_sections": true,
   "sideBar": true,
   "skip_h1_title": false,
   "title_cell": "Table of Contents",
   "title_sidebar": "Contents",
   "toc_cell": false,
   "toc_position": {},
   "toc_section_display": true,
   "toc_window_display": false
  },
  "varInspector": {
   "cols": {
    "lenName": 16,
    "lenType": 16,
    "lenVar": 40
   },
   "kernels_config": {
    "python": {
     "delete_cmd_postfix": "",
     "delete_cmd_prefix": "del ",
     "library": "var_list.py",
     "varRefreshCmd": "print(var_dic_list())"
    },
    "r": {
     "delete_cmd_postfix": ") ",
     "delete_cmd_prefix": "rm(",
     "library": "var_list.r",
     "varRefreshCmd": "cat(var_dic_list()) "
    }
   },
   "types_to_exclude": [
    "module",
    "function",
    "builtin_function_or_method",
    "instance",
    "_Feature"
   ],
   "window_display": false
  }
 },
 "nbformat": 4,
 "nbformat_minor": 5
}

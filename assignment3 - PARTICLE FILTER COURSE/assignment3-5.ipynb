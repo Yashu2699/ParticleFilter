{
 "cells": [
  {
   "cell_type": "code",
   "execution_count": 1,
   "id": "49a683a1",
   "metadata": {},
   "outputs": [],
   "source": [
    "from sim.a35 import plot\n",
    "import random as r\n",
    "import numpy as np"
   ]
  },
  {
   "cell_type": "code",
   "execution_count": 8,
   "id": "aec2df6b",
   "metadata": {},
   "outputs": [],
   "source": [
    "class Robot:\n",
    "    def __init__(self, pos):\n",
    "        self.pos = pos\n",
    "        self.move_dist = 1\n",
    "\n",
    "\n",
    "class Particle(Robot):\n",
    "    def __init__(self, pos):\n",
    "        Robot.__init__(self, pos)\n",
    "        self.weight = 0\n",
    "        self.movement_sigma = 1\n",
    "        self.move_dist = 4  # Overwrite move distance for this example\n",
    "        self.color = (0, 0, 1, 1)\n",
    "\n",
    "    def predict(self):\n",
    "        ### START STUDENT CODE\n",
    "        self.pos = np.random.normal(\\\n",
    "        self.pos + self.move_dist, self.movement_sigma)\n",
    "        ### END STUDENT CODE\n",
    "\n",
    "def resample_particles(particles):\n",
    "    ### START STUDENT CODE\n",
    "    # Please fill this array with the output of the r.choices function.\n",
    "    weights = []\n",
    "    for particle in particles:\n",
    "        weights += [particle.weight]\n",
    "    print('Weights:' + str(weights))\n",
    "    resample = []\n",
    "    resample = r.choices(range(num_particles), weights, k=num_particles)\n",
    "    print(resample)\n",
    "    \n",
    "    # Please fill this array with resampled partciles.\n",
    "    resampled_particles = []\n",
    "    for i in resample:\n",
    "        resampled_particles += [Particle(particles[i].pos)]\n",
    "\n",
    "    ### END STUDENT CODE\n",
    "\n",
    "    # Set all resampled particles to a different color.\n",
    "    for i in resample:\n",
    "        resampled_particles[-1].color = (0, 1, 0, 1)\n",
    "\n",
    "    # Plot and return resampled particles.\n",
    "    plot(particles, resampled_particles, resample, distance)\n",
    "    return resampled_particles\n"
   ]
  },
  {
   "cell_type": "code",
   "execution_count": 9,
   "id": "d00b3135",
   "metadata": {},
   "outputs": [
    {
     "name": "stdout",
     "output_type": "stream",
     "text": [
      "Weights:[1, 1, 1, 0.1, 0.1, 0.1, 0.1, 0.1, 0.1, 0.1]\n",
      "[1, 0, 1, 1, 2, 2, 1, 0, 5, 1]\n"
     ]
    },
    {
     "data": {
      "image/png": "[encoded data removed]",
      "text/plain": [
       "<Figure size 432x288 with 1 Axes>"
      ]
     },
     "metadata": {
      "needs_background": "light"
     },
     "output_type": "display_data"
    },
    {
     "data": {
      "image/png": "[encoded data removed]",
      "text/plain": [
       "<Figure size 432x288 with 1 Axes>"
      ]
     },
     "metadata": {
      "needs_background": "light"
     },
     "output_type": "display_data"
    },
    {
     "data": {
      "image/png": "[encoded data removed]",
      "text/plain": [
       "<Figure size 432x288 with 1 Axes>"
      ]
     },
     "metadata": {
      "needs_background": "light"
     },
     "output_type": "display_data"
    },
    {
     "data": {
      "image/png": "[encoded data removed]",
      "text/plain": [
       "<Figure size 432x288 with 1 Axes>"
      ]
     },
     "metadata": {
      "needs_background": "light"
     },
     "output_type": "display_data"
    }
   ],
   "source": [
    "num_particles = 10\n",
    "distance = 40\n",
    "particles = []\n",
    "\n",
    "# Set first few particles to different weight and color.\n",
    "for i in range(num_particles):\n",
    "    particles += [Particle(r.uniform(0, distance))]\n",
    "    if i < 3:\n",
    "        particles[-1].weight = 1\n",
    "        particles[-1].color = (1, 0, 0, 1)\n",
    "    else:\n",
    "        particles[-1].weight = 0.1\n",
    "\n",
    "# Resample Particles\n",
    "resampled_particles = resample_particles(particles)\n"
   ]
  },
  {
   "cell_type": "code",
   "execution_count": null,
   "id": "17ee9268",
   "metadata": {},
   "outputs": [],
   "source": []
  }
 ],
 "metadata": {
  "kernelspec": {
   "display_name": "Python 3 (ipykernel)",
   "language": "python",
   "name": "python3"
  },
  "language_info": {
   "codemirror_mode": {
    "name": "ipython",
    "version": 3
   },
   "file_extension": ".py",
   "mimetype": "text/x-python",
   "name": "python",
   "nbconvert_exporter": "python",
   "pygments_lexer": "ipython3",
   "version": "3.9.7"
  },
  "toc": {
   "base_numbering": 1,
   "nav_menu": {},
   "number_sections": true,
   "sideBar": true,
   "skip_h1_title": false,
   "title_cell": "Table of Contents",
   "title_sidebar": "Contents",
   "toc_cell": false,
   "toc_position": {},
   "toc_section_display": true,
   "toc_window_display": false
  },
  "varInspector": {
   "cols": {
    "lenName": 16,
    "lenType": 16,
    "lenVar": 40
   },
   "kernels_config": {
    "python": {
     "delete_cmd_postfix": "",
     "delete_cmd_prefix": "del ",
     "library": "var_list.py",
     "varRefreshCmd": "print(var_dic_list())"
    },
    "r": {
     "delete_cmd_postfix": ") ",
     "delete_cmd_prefix": "rm(",
     "library": "var_list.r",
     "varRefreshCmd": "cat(var_dic_list()) "
    }
   },
   "types_to_exclude": [
    "module",
    "function",
    "builtin_function_or_method",
    "instance",
    "_Feature"
   ],
   "window_display": false
  }
 },
 "nbformat": 4,
 "nbformat_minor": 5
}
